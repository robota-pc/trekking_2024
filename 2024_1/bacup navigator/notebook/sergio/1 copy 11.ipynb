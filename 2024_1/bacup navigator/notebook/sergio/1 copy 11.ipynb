{
 "cells": [
  {
   "cell_type": "code",
   "execution_count": null,
   "metadata": {},
   "outputs": [],
   "source": [
    "pip install imfusion\n"
   ]
  },
  {
   "cell_type": "code",
   "execution_count": null,
   "metadata": {},
   "outputs": [],
   "source": [
    "from imufusion import IMU"
   ]
  },
  {
   "cell_type": "code",
   "execution_count": null,
   "metadata": {},
   "outputs": [],
   "source": [
    "\n",
    "\n",
    "imu = IMU()\n",
    "imu.setup(accelerometer_data, gyroscope_data, magnetometer_data)\n",
    "\n",
    "while True:\n",
    "    orientation = imu.update()\n",
    "    print(\"Orientation:\", orientation)"
   ]
  }
 ],
 "metadata": {
  "language_info": {
   "name": "python"
  }
 },
 "nbformat": 4,
 "nbformat_minor": 2
}
