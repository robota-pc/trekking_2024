{
 "cells": [
  {
   "cell_type": "code",
   "execution_count": null,
   "metadata": {},
   "outputs": [],
   "source": [
    "pip install bluerobotics_navigator "
   ]
  },
  {
   "cell_type": "code",
   "execution_count": null,
   "metadata": {},
   "outputs": [],
   "source": [
    "import bluerobotics_navigator as navigator\n",
    "from IPython.display import clear_output\n",
    "import time\n",
    "navigator.init()\n",
    "i = 0\n",
    "while True:\n",
    "    #if i == 5000000:\n",
    "    # v[i] = v[i-1] +a[i]\n",
    "    #vel_anterior = 0\n",
    "    #vel_atual = 0\n",
    "    #velocidade = [vel_atual, v]\n",
    "    #aceleracao m/s^2\n",
    "    acceleration = navigator.read_accel()\n",
    "    acx = acceleration.x #direita (negativo)\n",
    "    acy = acceleration.y #frente (negativo)\n",
    "    acz = acceleration.z #cima (negativo)\n",
    "    \n",
    "    print(f'ac_x: {acx:.2f}')\n",
    "    print(f'ac_y: {acy:.2f}')\n",
    "    print(f'ac_z: {acz:.2f}')\n",
    "    if acy > 0:\n",
    "        print('frente')\n",
    "    elif acy < 0:\n",
    "        print('ré')\n",
    "    if acx < 0:\n",
    "        pass\n",
    "        #print('direita')\n",
    "    if acz < 0:\n",
    "        pass\n",
    "        #print('cima')\n",
    "    print('')\n",
    "    print('--------------------------------------')\n",
    "    print('')\n",
    "    \n",
    "    \n",
    "    clear_output(wait=True)\n",
    "    time.sleep(0.1)\n",
    "    i = 0\n",
    "    i += 1 "
   ]
  },
  {
   "cell_type": "code",
   "execution_count": null,
   "metadata": {},
   "outputs": [],
   "source": []
  }
 ],
 "metadata": {
  "language_info": {
   "name": "python"
  }
 },
 "nbformat": 4,
 "nbformat_minor": 2
}
