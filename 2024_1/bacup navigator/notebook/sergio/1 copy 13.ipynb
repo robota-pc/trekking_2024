{
 "cells": [
  {
   "cell_type": "code",
   "execution_count": null,
   "metadata": {},
   "outputs": [],
   "source": [
    "!pip install import-ipynb"
   ]
  },
  {
   "cell_type": "code",
   "execution_count": null,
   "metadata": {},
   "outputs": [],
   "source": [
    "import import_ipynb\n",
    "import bluerobotics_navigator as navigator\n",
    "import calibracao\n",
    "import time\n",
    "import numpy as np"
   ]
  },
  {
   "cell_type": "code",
   "execution_count": null,
   "metadata": {},
   "outputs": [],
   "source": [
    "offsety = calibracao.calibra_y(1000)\n",
    "acceleration = navigator.read_accel()\n",
    "acy = acceleration.y\n",
    "\n",
    "print(acy)\n",
    "\n",
    "print(offsety)"
   ]
  },
  {
   "cell_type": "code",
   "execution_count": null,
   "metadata": {},
   "outputs": [],
   "source": [
    "acceleration = navigator.read_accel()\n",
    "acy = acceleration.y\n",
    "print(acy)"
   ]
  },
  {
   "cell_type": "code",
   "execution_count": null,
   "metadata": {},
   "outputs": [],
   "source": [
    "valor1 = []\n",
    "for i in range(1000):  \n",
    "    acceleration = navigator.read_accel()\n",
    "    acz = acceleration.z\n",
    "    valor1.append(acz)\n",
    "\n",
    "calibration_data = valor1\n",
    "calibration_data = np.array(calibration_data)\n",
    "media = np.mean(calibration_data, axis=0)\n",
    "#offsety = calibracao.calibra_y(1000)\n",
    "print(media)\n",
    "#print(offsety)"
   ]
  },
  {
   "cell_type": "code",
   "execution_count": null,
   "metadata": {},
   "outputs": [],
   "source": [
    "offsety = calibracao.calibra_y(1000)\n",
    "\n",
    "print(offsety)"
   ]
  },
  {
   "cell_type": "code",
   "execution_count": null,
   "metadata": {},
   "outputs": [],
   "source": [
    "offsetz = calibracao.calibra_z(1000)\n",
    "\n",
    "print(offsetz)"
   ]
  },
  {
   "cell_type": "code",
   "execution_count": null,
   "metadata": {},
   "outputs": [],
   "source": [
    "offsetx = calibracao.calibra_x(1000)\n",
    "offsety = calibracao.calibra_y(1000)\n",
    "offsetz = calibracao.calibra_z(1000)\n",
    "\n",
    "print(offsetx)\n",
    "print(offsety)\n",
    "print(offsetz)"
   ]
  }
 ],
 "metadata": {
  "language_info": {
   "name": "python"
  }
 },
 "nbformat": 4,
 "nbformat_minor": 2
}
