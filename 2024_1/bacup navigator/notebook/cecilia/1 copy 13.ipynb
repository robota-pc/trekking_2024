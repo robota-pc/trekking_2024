{
 "cells": [
  {
   "cell_type": "code",
   "execution_count": null,
   "metadata": {},
   "outputs": [],
   "source": [
    "!pip install import-ipynb"
   ]
  },
  {
   "cell_type": "code",
   "execution_count": null,
   "metadata": {},
   "outputs": [],
   "source": [
    "import import_ipynb\n",
    "import funcao_sonar"
   ]
  },
  {
   "cell_type": "code",
   "execution_count": null,
   "metadata": {},
   "outputs": [],
   "source": [
    "porta = '/dev/ttyACM0'\n",
    "freq = 9600\n",
    "\n",
    "ser = funcao_sonar.configurar_porta(porta, freq)\n",
    "\n",
    "print(funcao_sonar.sonar(ser))\n",
    "\n",
    "while True:\n",
    "    print(funcao_sonar.sonar(ser))\n"
   ]
  },
  {
   "cell_type": "code",
   "execution_count": null,
   "metadata": {},
   "outputs": [],
   "source": [
    "print(type(funcao_sonar.sonar(ser)))"
   ]
  }
 ],
 "metadata": {
  "language_info": {
   "name": "python"
  }
 },
 "nbformat": 4,
 "nbformat_minor": 2
}
