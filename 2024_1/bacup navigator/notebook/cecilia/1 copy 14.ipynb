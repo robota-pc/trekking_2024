{
 "cells": [
  {
   "cell_type": "code",
   "execution_count": null,
   "metadata": {},
   "outputs": [],
   "source": [
    "import serial\n",
    "import time\n",
    "\n",
    "porta = 'COM4'\n",
    "baundrate = 9600\n",
    "\n",
    "def configurar_porta(porta, baudrate):\n",
    "    ser = serial.Serial(porta, baudrate)\n",
    "    time.sleep(2)  # Aguarda 2 segundos para estabilizar a conexão\n",
    "    return ser\n",
    "\n",
    "def sonar(ser):\n",
    "    while True:\n",
    "        if ser.in_waiting > 0:\n",
    "            line = ser.readline().decode('utf-8').rstrip()\n",
    "            #valor = int.from_bytes(ser.readline(), byteorder='big')\n",
    "            #valor = int(line)\n",
    "            return line\n",
    "\n",
    "\n",
    "#ser.close()\n",
    "porta = '/dev/ttyACM0'\n",
    "freq = 9600\n",
    "\n",
    "ser = configurar_porta(porta, freq)\n",
    "print(sonar(ser))\n",
    "\n",
    "while True:\n",
    "    print(sonar(ser))\n"
   ]
  },
  {
   "cell_type": "code",
   "execution_count": null,
   "metadata": {},
   "outputs": [],
   "source": [
    "print(type(sonar(ser)))"
   ]
  },
  {
   "cell_type": "code",
   "execution_count": null,
   "metadata": {},
   "outputs": [],
   "source": [
    "\n"
   ]
  }
 ],
 "metadata": {
  "language_info": {
   "name": "python"
  }
 },
 "nbformat": 4,
 "nbformat_minor": 2
}
