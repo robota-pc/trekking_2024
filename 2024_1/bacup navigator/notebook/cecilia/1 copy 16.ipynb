{
 "cells": [
  {
   "cell_type": "code",
   "execution_count": null,
   "metadata": {},
   "outputs": [],
   "source": [
    "import bluerobotics_navigator as navigator\n",
    "from IPython.display import clear_output\n",
    "import time\n",
    "import numpy as np\n",
    "\n",
    "navigator.init()\n",
    "valor1 = []\n",
    "valor2 = []\n",
    "valor3 =[]\n",
    "#acceleration = navigator.read_accel()\n",
    "def calibra_y(amostras):\n",
    "    for i in range(amostras):  \n",
    "        acceleration = navigator.read_accel()\n",
    "        acy = acceleration.y\n",
    "        valor1.append(acy)\n",
    "    \n",
    "    calibration_data = valor1\n",
    "    calibration_data = np.array(calibration_data)\n",
    "    media = np.mean(calibration_data, axis=0)\n",
    "    #time.sleep(0.01)\n",
    "    return media\n",
    "\n",
    "def calibra_x(amostras):\n",
    "    for i in range(amostras):\n",
    "        acceleration = navigator.read_accel()\n",
    "        acx = acceleration.x\n",
    "        valor2.append(acx)\n",
    "    \n",
    "    calibration_data = valor2\n",
    "    calibration_data = np.array(calibration_data)\n",
    "    media = np.mean(calibration_data, axis=0)\n",
    "    #time.sleep(0.01)\n",
    "    return media\n",
    "\n",
    "def calibra_z(amostras):\n",
    "    for i in range(amostras):\n",
    "        acceleration = navigator.read_accel()\n",
    "        acz = acceleration.z\n",
    "        valor3.append(acz)\n",
    "    \n",
    "    calibration_data = valor3\n",
    "    calibration_data = np.array(calibration_data)\n",
    "    media = np.mean(calibration_data, axis=0)\n",
    "    #time.sleep(0.01)\n",
    "    return media\n",
    "\n",
    "\n"
   ]
  },
  {
   "cell_type": "code",
   "execution_count": null,
   "metadata": {},
   "outputs": [],
   "source": []
  },
  {
   "cell_type": "code",
   "execution_count": null,
   "metadata": {},
   "outputs": [],
   "source": [
    "\n"
   ]
  }
 ],
 "metadata": {
  "language_info": {
   "name": "python"
  }
 },
 "nbformat": 4,
 "nbformat_minor": 2
}
