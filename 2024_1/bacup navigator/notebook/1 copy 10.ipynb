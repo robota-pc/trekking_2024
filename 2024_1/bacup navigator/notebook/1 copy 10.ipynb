{
 "cells": [
  {
   "cell_type": "code",
   "execution_count": null,
   "metadata": {},
   "outputs": [],
   "source": [
    "pip install smbus2"
   ]
  },
  {
   "cell_type": "code",
   "execution_count": null,
   "metadata": {},
   "outputs": [],
   "source": [
    "import smbus2\n",
    "import time"
   ]
  },
  {
   "cell_type": "code",
   "execution_count": null,
   "metadata": {},
   "outputs": [],
   "source": [
    "\n",
    "# Definição do endereço I2C do dispositivo escravo (ESP32)\n",
    "SLAVE_ADDRESS = 0x08\n",
    "\n",
    "# Cria um objeto SMBus\n",
    "bus = smbus2.SMBus(1)\n",
    "\n",
    "def read_data():\n",
    "    try:\n",
    "        # Solicita um byte de dados do escravo\n",
    "        data = bus.read_byte(SLAVE_ADDRESS)\n",
    "        print(\"Recebido:\", chr(data))\n",
    "    except IOError:\n",
    "        print(\"Erro de I/O\")\n",
    "\n",
    "while True:\n",
    "    read_data()\n",
    "    time.sleep(1)\n"
   ]
  }
 ],
 "metadata": {
  "language_info": {
   "name": "python"
  }
 },
 "nbformat": 4,
 "nbformat_minor": 2
}
