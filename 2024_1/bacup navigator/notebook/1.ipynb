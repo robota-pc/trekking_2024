{
 "cells": [
  {
   "cell_type": "code",
   "execution_count": null,
   "metadata": {},
   "outputs": [],
   "source": [
    "\n",
    "\n",
    "import bluerobotics_navigator as navigator\n",
    "from bluerobotics_navigator import PwmChannel\n",
    "import time\n",
    "\n",
    "navigator.init()\n",
    "navigator.set_pwm_freq_hz(50)\n",
    "\n",
    "navigator.set_pwm_enable(True)\n",
    "\n",
    "x = 0.01\n",
    "navigator.set_pwm_channel_duty_cycle(PwmChannel.Ch1, 0.105)\n",
    "\n",
    "\n",
    "\n",
    "\n",
    "navigator.set_pwm_enable(False)"
   ]
  }
 ],
 "metadata": {
  "language_info": {
   "name": "python"
  }
 },
 "nbformat": 4,
 "nbformat_minor": 2
}
