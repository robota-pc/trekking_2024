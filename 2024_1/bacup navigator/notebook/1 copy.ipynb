{
 "cells": [
  {
   "cell_type": "code",
   "execution_count": null,
   "metadata": {},
   "outputs": [],
   "source": [
    "import bluerobotics_navigator as navigator\n",
    "from bluerobotics_navigator import AdcChannel"
   ]
  },
  {
   "cell_type": "code",
   "execution_count": null,
   "metadata": {},
   "outputs": [],
   "source": [
    "valor_adc1 = navigator.read_adc(AdcChannel.Ch1)\n",
    "print(valor_adc1)"
   ]
  }
 ],
 "metadata": {
  "language_info": {
   "name": "python"
  }
 },
 "nbformat": 4,
 "nbformat_minor": 2
}
