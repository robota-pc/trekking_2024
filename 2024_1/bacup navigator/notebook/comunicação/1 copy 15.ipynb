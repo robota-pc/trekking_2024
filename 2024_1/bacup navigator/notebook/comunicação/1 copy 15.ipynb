{
 "cells": [
  {
   "cell_type": "code",
   "execution_count": null,
   "metadata": {},
   "outputs": [],
   "source": [
    "\n",
    "import serial\n",
    "import time\n"
   ]
  },
  {
   "cell_type": "code",
   "execution_count": null,
   "metadata": {},
   "outputs": [],
   "source": [
    "\n",
    "# Configurar a porta serial (ajustar a porta conforme necessário)\n",
    "arduino = serial.Serial('/dev/ttyUSB0', 9600, timeout=1)\n",
    "# arduino.reset_input_buffer()\n",
    "time.sleep(2)  # Esperar pela inicialização da conexão serial\n",
    "\n",
    "def read_sensor_value():\n",
    "    sensor_value = arduino.readline().decode().strip()\n",
    "    return sensor_value\n",
    "\n",
    "try:\n",
    "    while True:\n",
    "        # Ler valor do sensor do Arduino\n",
    "        sensor_value = read_sensor_value()\n",
    "        print(f\"Valor do sensor: {sensor_value}\")\n",
    "        \n",
    "\n",
    "        \n",
    "\n",
    "except KeyboardInterrupt:\n",
    "    print(\"Programa encerrado pelo usuário.\")\n",
    "\n",
    "finally:\n",
    "    # Fechar a conexão serial antes de sair\n",
    "    arduino.close()"
   ]
  },
  {
   "cell_type": "code",
   "execution_count": null,
   "metadata": {},
   "outputs": [],
   "source": [
    "\n"
   ]
  }
 ],
 "metadata": {
  "language_info": {
   "name": "python"
  }
 },
 "nbformat": 4,
 "nbformat_minor": 2
}
