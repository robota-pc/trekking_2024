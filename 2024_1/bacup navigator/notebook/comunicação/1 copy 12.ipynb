{
 "cells": [
  {
   "cell_type": "code",
   "execution_count": null,
   "metadata": {},
   "outputs": [],
   "source": [
    "!pip install import-ipynb"
   ]
  },
  {
   "cell_type": "code",
   "execution_count": null,
   "metadata": {},
   "outputs": [],
   "source": [
    "\n",
    "import import_ipynb\n",
    "import funcao_sonar"
   ]
  },
  {
   "cell_type": "code",
   "execution_count": null,
   "metadata": {},
   "outputs": [],
   "source": [
    "\n",
    "\n",
    "\n",
    "porta = '/dev/ttyACM0'\n",
    "freq = 9600\n",
    "\n",
    "ser = funcao_sonar.configurar_porta(porta, freq)\n",
    "print(funcao_sonar.sonar(ser))\n",
    "\n",
    "while True:\n",
    "    print(funcao_sonar.sonar(ser))\n"
   ]
  }
 ],
 "metadata": {
  "language_info": {
   "name": "python"
  }
 },
 "nbformat": 4,
 "nbformat_minor": 2
}
