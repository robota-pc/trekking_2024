{
 "cells": [
  {
   "cell_type": "code",
   "execution_count": null,
   "metadata": {},
   "outputs": [],
   "source": [
    "import serial\n",
    "import time\n",
    "\n",
    "\n",
    "porta = '/dev/ttyUSB0'\n",
    "freq = 9600\n",
    "\n",
    "\n",
    "def configurar_porta(porta, baudrate):\n",
    "    ser = serial.Serial(porta, baudrate)\n",
    "    time.sleep(2)  # Aguarda 2 segundos para estabilizar a conexão\n",
    "    return ser\n",
    "\n",
    "def sonar(ser):\n",
    "    while True:\n",
    "        if ser.in_waiting > 0:\n",
    "            line = ser.readline().decode('utf-8').rstrip()\n",
    "            \n",
    "            return line\n",
    "\n",
    "ser = configurar_porta(porta, freq)\n",
    "print(sonar(ser))\n",
    "\n",
    "while True:\n",
    "    print(sonar(ser))\n"
   ]
  },
  {
   "cell_type": "code",
   "execution_count": null,
   "metadata": {},
   "outputs": [],
   "source": []
  },
  {
   "cell_type": "code",
   "execution_count": null,
   "metadata": {},
   "outputs": [],
   "source": [
    "\n"
   ]
  }
 ],
 "metadata": {
  "language_info": {
   "name": "python"
  }
 },
 "nbformat": 4,
 "nbformat_minor": 2
}
